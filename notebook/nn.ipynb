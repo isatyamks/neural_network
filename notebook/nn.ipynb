{
 "cells": [
  {
   "cell_type": "code",
   "execution_count": 1,
   "metadata": {},
   "outputs": [],
   "source": [
    "import numpy as np\n",
    "import pandas as pd\n",
    "import matplotlib.pyplot as plt"
   ]
  },
  {
   "cell_type": "markdown",
   "metadata": {},
   "source": [
    "## Some Helper Functions"
   ]
  },
  {
   "cell_type": "code",
   "execution_count": 2,
   "metadata": {},
   "outputs": [],
   "source": [
    "'''a simple one_hot_encoder which encode the numbers from 0 to 9 in vector\n",
    "for example: if y = 3  then one hot vector is [0,0,0,1,0,0,0,0,0,0]'''\n",
    "\n",
    "def one_hot_encode(y, num_classes=10):\n",
    "    m = y.shape[0]\n",
    "    one_hot = np.zeros((m, num_classes))\n",
    "    one_hot[np.arange(m), y] = 1\n",
    "    return one_hot"
   ]
  },
  {
   "cell_type": "code",
   "execution_count": 3,
   "metadata": {},
   "outputs": [],
   "source": [
    "'''ReLU (Rectified Linear Unit) its a simple to introduce non-linearity means it just convert y = x if x>0 and y = 0 if x < 0 '''\n",
    "\n",
    "def relu(Z):\n",
    "    return np.maximum(0,Z)   #if Z<0 then return 0 otherwise return Z "
   ]
  },
  {
   "cell_type": "code",
   "execution_count": 25,
   "metadata": {},
   "outputs": [],
   "source": [
    "def relu_derivative(Z):\n",
    "    return (Z > 0).astype(float)\n"
   ]
  },
  {
   "cell_type": "code",
   "execution_count": 11,
   "metadata": {},
   "outputs": [],
   "source": [
    "\n",
    "\n",
    "def softmax(Z):\n",
    "    max_val = np.max(Z, axis=0, keepdims=True)\n",
    "    Z_stable = Z - max_val\n",
    "    exp_vals = np.exp(Z_stable)\n",
    "    total = np.sum(exp_vals, axis=0, keepdims=True)\n",
    "    return exp_vals / total\n"
   ]
  },
  {
   "cell_type": "code",
   "execution_count": null,
   "metadata": {},
   "outputs": [
    {
     "data": {
      "text/plain": [
       "'here i am trying to explain the softmax fucntion and its use'"
      ]
     },
     "execution_count": 9,
     "metadata": {},
     "output_type": "execute_result"
    }
   ],
   "source": [
    "\"\"\"here i am trying to explain the softmax fucntion and its use: \n",
    "\n",
    "Suppose for one sample (a single column in Z2) the output is:\n",
    "\n",
    "Z2 = [2.3,0.5,-1.2,0.0,1.8,-0.7,-0.2,0.3,-1.0,0.9] ---->logits\n",
    "\n",
    "The logit for class 0 is 2.3, for class 1 is 0.5, for class 2 is -1.2, and so on.\n",
    "\n",
    "These numbers indicate how strongly the network \"favors\" each class before normalization\n",
    "\n",
    "after softmax function .....\n",
    "\n",
    "This is how the softmax function transforms the raw logits into a meaningful output probability vector \n",
    "\n",
    "A2 = [0.40766853, 0.06738715, 0.01231052, 0.04087238, 0.24726346,0.02029662, 0.03346347, 0.05517194, 0.01503611, 0.10052982]\n",
    "\n",
    "A2[0]≈0.4076: The network estimates a 40.76% probability for class 0.\n",
    "\n",
    "A2[4]≈0.2473: About 24.73% for class 4.\n",
    "\n",
    "\"\"\""
   ]
  },
  {
   "cell_type": "code",
   "execution_count": 12,
   "metadata": {},
   "outputs": [
    {
     "data": {
      "text/plain": [
       "array([0.40766853, 0.06738715, 0.01231052, 0.04087238, 0.24726346,\n",
       "       0.02029662, 0.03346347, 0.05517194, 0.01503611, 0.10052982])"
      ]
     },
     "execution_count": 12,
     "metadata": {},
     "output_type": "execute_result"
    }
   ],
   "source": [
    "Z2 = [2.3,0.5,-1.2,0.0,1.8,-0.7,-0.2,0.3,-1.0,0.9]\n",
    "A2 = softmax(Z2)\n",
    "A2"
   ]
  },
  {
   "cell_type": "code",
   "execution_count": 23,
   "metadata": {},
   "outputs": [],
   "source": [
    "def cross_entropy_loss(Y_pred, Y_true):\n",
    "    m = Y_true.shape[1]\n",
    "    eps = 1e-15  # to avoid log(0)\n",
    "    loss = -np.sum(Y_true * np.log(Y_pred + eps)) / m\n",
    "    return loss\n"
   ]
  },
  {
   "cell_type": "markdown",
   "metadata": {},
   "source": [
    "## Neural Network Class: Neural_Network\n",
    "\n",
    "### This class encapsulates the network architecture, forward pass, backward propagation, parameter updates, training, and prediction."
   ]
  },
  {
   "cell_type": "code",
   "execution_count": null,
   "metadata": {},
   "outputs": [],
   "source": [
    "\"\"\"\n",
    "input_size = no of input neurons 784 (28*28)\n",
    "\n",
    "output_size = no of class (10)  from 0 to 9\n",
    "\n",
    "hidden_size = number of neurons in the hidden layer\n",
    "\n",
    "learning_rate =  Step size for gradient descent updates\n",
    "\n",
    "\n",
    "\"\"\"\n",
    "\n"
   ]
  },
  {
   "cell_type": "code",
   "execution_count": 26,
   "metadata": {},
   "outputs": [],
   "source": [
    "class Neural_Network:\n",
    "    '''np.random.randn(hidden_size, input_size)  because for each hidden neuron we need x weights and here x no of input so fo y neuron we need xy weights\n",
    "\n",
    "    so here using np i create a 2d matrix of x row and y cols \n",
    "\n",
    "    the scalling factor is selected only becuase its perfect for relu and you can change it ..... \n",
    "    \n",
    "    \n",
    "    '''\n",
    "    \n",
    "    def __init__(self, input_size, hidden_size, output_size, learning_rate=0.1):\n",
    "        self.learning_rate = learning_rate\n",
    "        \n",
    "        #from input layer to hidden layer\n",
    "        self.W1 = np.random.randn(hidden_size, input_size) * np.sqrt(2. / input_size)\n",
    "        self.b1 = np.zeros((hidden_size, 1))\n",
    "        \n",
    "        #from hidden layer to ouput layer\n",
    "        self.W2 = np.random.randn(output_size, hidden_size) * np.sqrt(2. / hidden_size)\n",
    "        self.b2 = np.zeros((output_size, 1))\n",
    "\n",
    "    \n",
    "    def forward(self,X):\n",
    "        #simple forward pass  Z1 = W1*X +B1\n",
    "        Z1 = np.dot(self.W1,X)+self.b1\n",
    "        A1 = relu(Z1)\n",
    "\n",
    "\n",
    "        #simple forward pass  Z2 = W1*A1 +B2\n",
    "        Z2 = np.dot(self.W2,A1)+self.b2\n",
    "        \n",
    "        \n",
    "        A2 = softmax(Z2)\n",
    "\n",
    "        #cache: Save intermediate values needed for backpropagation.\n",
    "        cache = (X, Z1, A1, Z2, A2)\n",
    "        \n",
    "        return A2, cache\n",
    "    \n",
    "    \n",
    "    \n",
    "    \n",
    "    \n",
    "    def backward(self, cache, Y):\n",
    "        X, Z1, A1, Z2, A2 = cache\n",
    "        m = X.shape[1]\n",
    "        dZ2 = A2 - Y  # shape: (output_size, m)\n",
    "        dW2 = (1./m) * np.dot(dZ2, A1.T)\n",
    "        db2 = (1./m) * np.sum(dZ2, axis=1, keepdims=True)\n",
    "    \n",
    "        dA1 = np.dot(self.W2.T, dZ2)\n",
    "        dZ1 = dA1 * relu_derivative(Z1)\n",
    "        dW1 = (1./m) * np.dot(dZ1, X.T)\n",
    "        db1 = (1./m) * np.sum(dZ1, axis=1, keepdims=True)\n",
    "    \n",
    "        grads = {\"dW1\": dW1, \"db1\": db1, \"dW2\": dW2, \"db2\": db2}\n",
    "        return grads\n",
    "\n",
    "    \n",
    "    def update_parameters(self, grads):\n",
    "        self.W1 -= self.learning_rate * grads[\"dW1\"]\n",
    "        self.b1 -= self.learning_rate * grads[\"db1\"]\n",
    "        self.W2 -= self.learning_rate * grads[\"dW2\"]\n",
    "        self.b2 -= self.learning_rate * grads[\"db2\"]\n",
    "\n",
    "    \n",
    "    \n",
    "    def train(self, X, Y, epochs=10, batch_size=64, X_val=None, Y_val=None):\n",
    "        m = X.shape[1]\n",
    "        history = {\"loss\": [], \"val_loss\": []}\n",
    "        for epoch in range(epochs):\n",
    "            permutation = np.random.permutation(m)\n",
    "            X_shuffled = X[:, permutation]\n",
    "            Y_shuffled = Y[:, permutation]\n",
    "            for i in range(0, m, batch_size):\n",
    "                X_batch = X_shuffled[:, i:i+batch_size]\n",
    "                Y_batch = Y_shuffled[:, i:i+batch_size]\n",
    "                A2, cache = self.forward(X_batch)\n",
    "                loss = cross_entropy_loss(A2, Y_batch)\n",
    "                grads = self.backward(cache, Y_batch)\n",
    "                self.update_parameters(grads)\n",
    "            A2_full, _ = self.forward(X)\n",
    "            train_loss = cross_entropy_loss(A2_full, Y)\n",
    "            history[\"loss\"].append(train_loss)\n",
    "            if X_val is not None and Y_val is not None:\n",
    "                A2_val, _ = self.forward(X_val)\n",
    "                val_loss = cross_entropy_loss(A2_val, Y_val)\n",
    "                history[\"val_loss\"].append(val_loss)\n",
    "                print(f\"Epoch {epoch+1}/{epochs} - Loss: {train_loss:.4f} - Val Loss: {val_loss:.4f}\")\n",
    "            else:\n",
    "                print(f\"Epoch {epoch+1}/{epochs} - Loss: {train_loss:.4f}\")\n",
    "        return history\n",
    "        \n",
    "    \n",
    "    \n",
    "    \n",
    "    \n",
    "    \n",
    "    \n",
    "    def predict(self, X):\n",
    "        A2, _ = self.forward(X)\n",
    "        predictions = np.argmax(A2, axis=0)\n",
    "        return predictions\n",
    "\n",
    "\n",
    "        \n",
    "\n",
    "\n",
    "\n"
   ]
  },
  {
   "cell_type": "code",
   "execution_count": null,
   "metadata": {},
   "outputs": [],
   "source": []
  },
  {
   "cell_type": "code",
   "execution_count": null,
   "metadata": {},
   "outputs": [],
   "source": []
  },
  {
   "cell_type": "code",
   "execution_count": 14,
   "metadata": {},
   "outputs": [],
   "source": [
    "train_csv_path = \"..\\\\data\\\\mnist_train.csv\"\n",
    "test_csv_path = \"..\\\\data\\\\mnist_test.csv\"\n",
    "\n",
    "train_df = pd.read_csv(train_csv_path)\n",
    "test_df = pd.read_csv(test_csv_path)\n"
   ]
  },
  {
   "cell_type": "code",
   "execution_count": 15,
   "metadata": {},
   "outputs": [],
   "source": [
    "X_train = train_df.drop(\"label\", axis=1).values.astype(np.float32)\n",
    "y_train = train_df[\"label\"].values.astype(np.int32)\n",
    "X_test = test_df.drop(\"label\", axis=1).values.astype(np.float32)\n",
    "y_test = test_df[\"label\"].values.astype(np.int32)\n"
   ]
  },
  {
   "cell_type": "code",
   "execution_count": 16,
   "metadata": {},
   "outputs": [],
   "source": [
    "X_train /= 255.0\n",
    "X_test /= 255.0\n"
   ]
  },
  {
   "cell_type": "code",
   "execution_count": 17,
   "metadata": {},
   "outputs": [],
   "source": [
    "y_train_encoded = one_hot_encode(y_train)\n",
    "y_test_encoded = one_hot_encode(y_test)\n"
   ]
  },
  {
   "cell_type": "code",
   "execution_count": 18,
   "metadata": {},
   "outputs": [],
   "source": [
    "X_train_T = X_train.T\n",
    "X_test_T = X_test.T\n",
    "Y_train_T = y_train_encoded.T\n",
    "Y_test_T = y_test_encoded.T\n"
   ]
  },
  {
   "cell_type": "code",
   "execution_count": 21,
   "metadata": {},
   "outputs": [],
   "source": [
    "input_size = 784      \n",
    "hidden_size = 64      \n",
    "output_size = 10      \n",
    "learning_rate = 0.1\n",
    "epochs = 10"
   ]
  },
  {
   "cell_type": "code",
   "execution_count": 27,
   "metadata": {},
   "outputs": [
    {
     "name": "stdout",
     "output_type": "stream",
     "text": [
      "Epoch 1/10 - Loss: 0.2478 - Val Loss: 0.2445\n",
      "Epoch 2/10 - Loss: 0.1823 - Val Loss: 0.1856\n",
      "Epoch 3/10 - Loss: 0.1395 - Val Loss: 0.1462\n",
      "Epoch 4/10 - Loss: 0.1218 - Val Loss: 0.1298\n",
      "Epoch 5/10 - Loss: 0.1041 - Val Loss: 0.1144\n",
      "Epoch 6/10 - Loss: 0.0905 - Val Loss: 0.1102\n",
      "Epoch 7/10 - Loss: 0.0775 - Val Loss: 0.0983\n",
      "Epoch 8/10 - Loss: 0.0733 - Val Loss: 0.0952\n",
      "Epoch 9/10 - Loss: 0.0658 - Val Loss: 0.0902\n",
      "Epoch 10/10 - Loss: 0.0631 - Val Loss: 0.0882\n"
     ]
    }
   ],
   "source": [
    "nn = Neural_Network(input_size, hidden_size, output_size, learning_rate)\n",
    "\n",
    "history = nn.train(X_train_T, Y_train_T, epochs=epochs, batch_size=64, X_val=X_test_T, Y_val=Y_test_T)"
   ]
  },
  {
   "cell_type": "code",
   "execution_count": 28,
   "metadata": {},
   "outputs": [
    {
     "name": "stdout",
     "output_type": "stream",
     "text": [
      "Test Accuracy: 97.16%\n"
     ]
    }
   ],
   "source": [
    "predictions = nn.predict(X_test_T)\n",
    "accuracy = np.mean(predictions == np.argmax(Y_test_T, axis=0)) * 100\n",
    "print(f\"Test Accuracy: {accuracy:.2f}%\")\n"
   ]
  },
  {
   "cell_type": "code",
   "execution_count": 29,
   "metadata": {},
   "outputs": [
    {
     "data": {
      "image/png": "[encoded data removed]",
      "text/plain": [
       "<Figure size 640x480 with 1 Axes>"
      ]
     },
     "metadata": {},
     "output_type": "display_data"
    }
   ],
   "source": [
    "plt.plot(history[\"loss\"], label=\"Train Loss\")\n",
    "if history[\"val_loss\"]:\n",
    "    plt.plot(history[\"val_loss\"], label=\"Validation Loss\")\n",
    "plt.xlabel(\"Epoch\")\n",
    "plt.ylabel(\"Loss\")\n",
    "plt.title(\"Training and Validation Loss\")\n",
    "plt.legend()\n",
    "plt.show()\n"
   ]
  }
 ],
 "metadata": {
  "kernelspec": {
   "display_name": "Python 3",
   "language": "python",
   "name": "python3"
  },
  "language_info": {
   "codemirror_mode": {
    "name": "ipython",
    "version": 3
   },
   "file_extension": ".py",
   "mimetype": "text/x-python",
   "name": "python",
   "nbconvert_exporter": "python",
   "pygments_lexer": "ipython3",
   "version": "3.12.3"
  }
 },
 "nbformat": 4,
 "nbformat_minor": 2
}
